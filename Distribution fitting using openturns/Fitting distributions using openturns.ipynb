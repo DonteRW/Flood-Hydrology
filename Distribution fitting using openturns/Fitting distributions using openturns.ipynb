{
 "cells": [
  {
   "cell_type": "markdown",
   "id": "51aeeb46",
   "metadata": {},
   "source": [
    "# Fitting distributions using openturns\n",
    "\n",
    "-----------------------------------------------\n",
    "DTR"
   ]
  },
  {
   "cell_type": "markdown",
   "id": "fc11a5b5",
   "metadata": {},
   "source": [
    "# Import Packages"
   ]
  },
  {
   "cell_type": "code",
   "execution_count": 1,
   "id": "86d802b2",
   "metadata": {},
   "outputs": [],
   "source": [
    "import pandas as pd"
   ]
  },
  {
   "cell_type": "code",
   "execution_count": 2,
   "id": "783700ed",
   "metadata": {},
   "outputs": [],
   "source": [
    "import numpy as np"
   ]
  },
  {
   "cell_type": "code",
   "execution_count": 3,
   "id": "85ae073e",
   "metadata": {},
   "outputs": [],
   "source": [
    "import matplotlib.pyplot as plt"
   ]
  },
  {
   "cell_type": "code",
   "execution_count": 4,
   "id": "7211d386",
   "metadata": {},
   "outputs": [],
   "source": [
    "import openturns as ot\n",
    "import openturns.viewer as viewer"
   ]
  },
  {
   "cell_type": "code",
   "execution_count": 5,
   "id": "2d4e11a8",
   "metadata": {},
   "outputs": [],
   "source": [
    "import scienceplots"
   ]
  },
  {
   "cell_type": "code",
   "execution_count": 6,
   "id": "8b6aa33f",
   "metadata": {},
   "outputs": [],
   "source": [
    "import os"
   ]
  },
  {
   "cell_type": "markdown",
   "id": "9891e859",
   "metadata": {},
   "source": [
    "# Directory Management"
   ]
  },
  {
   "cell_type": "code",
   "execution_count": 7,
   "id": "a58eda31",
   "metadata": {},
   "outputs": [
    {
     "data": {
      "text/plain": [
       "'C:\\\\Users\\\\drwas\\\\Documents\\\\UZ_2023_Hydrology_BSc'"
      ]
     },
     "execution_count": 7,
     "metadata": {},
     "output_type": "execute_result"
    }
   ],
   "source": [
    "os.getcwd()"
   ]
  },
  {
   "cell_type": "markdown",
   "id": "88c0a0ca",
   "metadata": {},
   "source": [
    "# File"
   ]
  },
  {
   "cell_type": "code",
   "execution_count": 8,
   "id": "e2d49d97",
   "metadata": {},
   "outputs": [],
   "source": [
    "dir_data = './DATA/'"
   ]
  },
  {
   "cell_type": "code",
   "execution_count": 9,
   "id": "58724fde",
   "metadata": {},
   "outputs": [],
   "source": [
    "filename = \"Inflow_Hydrograph.ods\""
   ]
  },
  {
   "cell_type": "code",
   "execution_count": 10,
   "id": "eadf1b9c",
   "metadata": {},
   "outputs": [
    {
     "data": {
      "text/plain": [
       "'./DATA/Inflow_Hydrograph.ods'"
      ]
     },
     "execution_count": 10,
     "metadata": {},
     "output_type": "execute_result"
    }
   ],
   "source": [
    "fname = os.path.join(dir_data,filename)\n",
    "fname"
   ]
  },
  {
   "cell_type": "markdown",
   "id": "92bea584",
   "metadata": {},
   "source": [
    "# Read Data"
   ]
  },
  {
   "cell_type": "markdown",
   "id": "969499ea",
   "metadata": {},
   "source": [
    "Since we want to read an .ods file, Pandas needs us to specify the engine we are going to use. We will use the \"odf\" engine. You might need to install it."
   ]
  },
  {
   "cell_type": "code",
   "execution_count": 11,
   "id": "3580e9d4",
   "metadata": {},
   "outputs": [],
   "source": [
    "ds_inflow = pd.read_excel( fname, sheet_name='data', engine=\"odf\")"
   ]
  },
  {
   "cell_type": "code",
   "execution_count": 12,
   "id": "0086f2ae",
   "metadata": {},
   "outputs": [
    {
     "data": {
      "text/html": [
       "<div>\n",
       "<style scoped>\n",
       "    .dataframe tbody tr th:only-of-type {\n",
       "        vertical-align: middle;\n",
       "    }\n",
       "\n",
       "    .dataframe tbody tr th {\n",
       "        vertical-align: top;\n",
       "    }\n",
       "\n",
       "    .dataframe thead th {\n",
       "        text-align: right;\n",
       "    }\n",
       "</style>\n",
       "<table border=\"1\" class=\"dataframe\">\n",
       "  <thead>\n",
       "    <tr style=\"text-align: right;\">\n",
       "      <th></th>\n",
       "      <th>Time</th>\n",
       "      <th>Inflow</th>\n",
       "    </tr>\n",
       "  </thead>\n",
       "  <tbody>\n",
       "    <tr>\n",
       "      <th>0</th>\n",
       "      <td>0</td>\n",
       "      <td>100.0</td>\n",
       "    </tr>\n",
       "    <tr>\n",
       "      <th>1</th>\n",
       "      <td>2</td>\n",
       "      <td>120.0</td>\n",
       "    </tr>\n",
       "    <tr>\n",
       "      <th>2</th>\n",
       "      <td>4</td>\n",
       "      <td>150.0</td>\n",
       "    </tr>\n",
       "    <tr>\n",
       "      <th>3</th>\n",
       "      <td>6</td>\n",
       "      <td>200.0</td>\n",
       "    </tr>\n",
       "    <tr>\n",
       "      <th>4</th>\n",
       "      <td>8</td>\n",
       "      <td>223.4</td>\n",
       "    </tr>\n",
       "  </tbody>\n",
       "</table>\n",
       "</div>"
      ],
      "text/plain": [
       "   Time  Inflow\n",
       "0     0   100.0\n",
       "1     2   120.0\n",
       "2     4   150.0\n",
       "3     6   200.0\n",
       "4     8   223.4"
      ]
     },
     "execution_count": 12,
     "metadata": {},
     "output_type": "execute_result"
    }
   ],
   "source": [
    "ds_inflow.head()"
   ]
  },
  {
   "cell_type": "code",
   "execution_count": 13,
   "id": "e77f089c",
   "metadata": {},
   "outputs": [
    {
     "data": {
      "text/plain": [
       "19"
      ]
     },
     "execution_count": 13,
     "metadata": {},
     "output_type": "execute_result"
    }
   ],
   "source": [
    "len(ds_inflow)"
   ]
  },
  {
   "cell_type": "markdown",
   "id": "1430f8aa",
   "metadata": {},
   "source": [
    "# Distibutions in Openturns"
   ]
  },
  {
   "cell_type": "code",
   "execution_count": 14,
   "id": "5319dcd6",
   "metadata": {},
   "outputs": [
    {
     "name": "stdout",
     "output_type": "stream",
     "text": [
      "ArcsineFactory\n",
      "BetaFactory\n",
      "BurrFactory\n",
      "ChiFactory\n",
      "ChiSquareFactory\n",
      "DirichletFactory\n",
      "ExponentialFactory\n",
      "FisherSnedecorFactory\n",
      "FrechetFactory\n",
      "GammaFactory\n",
      "GeneralizedParetoFactory\n",
      "GumbelFactory\n",
      "HistogramFactory\n",
      "InverseNormalFactory\n",
      "LaplaceFactory\n",
      "LogisticFactory\n",
      "LogNormalFactory\n",
      "LogUniformFactory\n",
      "MeixnerDistributionFactory\n",
      "NormalFactory\n",
      "ParetoFactory\n",
      "RayleighFactory\n",
      "RiceFactory\n",
      "StudentFactory\n",
      "TrapezoidalFactory\n",
      "TriangularFactory\n",
      "TruncatedNormalFactory\n",
      "UniformFactory\n",
      "VonMisesFactory\n",
      "WeibullMaxFactory\n",
      "WeibullMinFactory\n"
     ]
    }
   ],
   "source": [
    "for factory in ot.DistributionFactory.GetContinuousUniVariateFactories():\n",
    "    print(factory)"
   ]
  },
  {
   "cell_type": "markdown",
   "id": "619312fc",
   "metadata": {},
   "source": [
    "# Fit Selected Distributions"
   ]
  },
  {
   "cell_type": "code",
   "execution_count": 15,
   "id": "2b648941",
   "metadata": {},
   "outputs": [
    {
     "data": {
      "text/plain": [
       "array([100. , 120. , 150. , 200. , 223.4, 241.5, 260. , 248.8, 228.5,\n",
       "       205. , 180. , 150. , 120. , 110. , 100. , 100. , 100. , 100. ,\n",
       "       100. ])"
      ]
     },
     "execution_count": 15,
     "metadata": {},
     "output_type": "execute_result"
    }
   ],
   "source": [
    "data_inflows = ds_inflow.Inflow.values\n",
    "data_inflows"
   ]
  },
  {
   "cell_type": "code",
   "execution_count": 16,
   "id": "df19737a",
   "metadata": {},
   "outputs": [],
   "source": [
    "data_inflows = ot.Sample([[xi] for xi in data_inflows])"
   ]
  },
  {
   "cell_type": "code",
   "execution_count": 17,
   "id": "2a96f530",
   "metadata": {},
   "outputs": [
    {
     "data": {
      "text/plain": [
       "openturns.typ.Sample"
      ]
     },
     "execution_count": 17,
     "metadata": {},
     "output_type": "execute_result"
    }
   ],
   "source": [
    "type(data_inflows)"
   ]
  },
  {
   "cell_type": "code",
   "execution_count": 18,
   "id": "9664a577",
   "metadata": {},
   "outputs": [],
   "source": [
    "# define distributions you want to test on the sample\n",
    "distributions_selected = [ot.WeibullMaxFactory(), ot.NormalFactory(), ot.GumbelFactory(), ot.ParetoFactory() ]"
   ]
  },
  {
   "cell_type": "markdown",
   "id": "789c9658",
   "metadata": {},
   "source": [
    "## Fit using BIC"
   ]
  },
  {
   "cell_type": "code",
   "execution_count": 19,
   "id": "80c93a1b",
   "metadata": {},
   "outputs": [
    {
     "name": "stdout",
     "output_type": "stream",
     "text": [
      "-----------------------------\n",
      "Best fitting distribution:  Gumbel(beta = 46.7688, gamma = 132.857)\n",
      "BIC:  11.165406113906247\n"
     ]
    }
   ],
   "source": [
    "best_fit_dist, best_gof_bic = ot.FittingTest.BestModelBIC(data_inflows, distributions_selected)\n",
    "print('-----------------------------')\n",
    "print('Best fitting distribution: ', best_fit_dist )\n",
    "print('BIC: ', best_gof_bic )\n"
   ]
  },
  {
   "cell_type": "markdown",
   "id": "c0e71f6f",
   "metadata": {},
   "source": [
    "Other fitting options:\n",
    "\n",
    "    - BestModelAIC\n",
    "    - BestModelChiSquared\n",
    "    - BestModelKolmogorov\n",
    "    - BestModelLilliefors"
   ]
  },
  {
   "cell_type": "markdown",
   "id": "7588dbab",
   "metadata": {},
   "source": [
    "## Plotting using openturns"
   ]
  },
  {
   "cell_type": "markdown",
   "id": "e90fe909",
   "metadata": {},
   "source": [
    "###  pdf plot"
   ]
  },
  {
   "cell_type": "code",
   "execution_count": 20,
   "id": "09ea4448",
   "metadata": {},
   "outputs": [
    {
     "data": {
      "image/png": "[encoded data removed]",
      "text/plain": [
       "<Figure size 640x480 with 1 Axes>"
      ]
     },
     "metadata": {},
     "output_type": "display_data"
    }
   ],
   "source": [
    "graph = best_fit_dist.drawPDF()\n",
    "graph.setTitle(\"PDF of best fitting distribution\")\n",
    "view = viewer.View(graph)"
   ]
  },
  {
   "cell_type": "markdown",
   "id": "f696591c",
   "metadata": {},
   "source": [
    "### cdf plot"
   ]
  },
  {
   "cell_type": "code",
   "execution_count": 21,
   "id": "2bed5ca1",
   "metadata": {},
   "outputs": [
    {
     "data": {
      "image/png": "[encoded data removed]",
      "text/plain": [
       "<Figure size 640x480 with 1 Axes>"
      ]
     },
     "metadata": {},
     "output_type": "display_data"
    }
   ],
   "source": [
    "graph = best_fit_dist.drawCDF()\n",
    "graph.setTitle(\"CDF of best fitting distribution\")\n",
    "view = viewer.View(graph)"
   ]
  }
 ],
 "metadata": {
  "kernelspec": {
   "display_name": "Python 3 (ipykernel)",
   "language": "python",
   "name": "python3"
  },
  "language_info": {
   "codemirror_mode": {
    "name": "ipython",
    "version": 3
   },
   "file_extension": ".py",
   "mimetype": "text/x-python",
   "name": "python",
   "nbconvert_exporter": "python",
   "pygments_lexer": "ipython3",
   "version": "3.10.13"
  }
 },
 "nbformat": 4,
 "nbformat_minor": 5
}
